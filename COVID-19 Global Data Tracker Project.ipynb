{
 "cells": [
  {
   "cell_type": "code",
   "execution_count": null,
   "id": "5a536fda",
   "metadata": {},
   "outputs": [],
   "source": [
    "# COVID-19 Global Data Tracker Project\n",
    "# Author: Barack Oduor Ouma\n",
    "# Date: May 16, 2025\n",
    "\n",
    "# Import required libraries\n",
    "import pandas as pd\n",
    "import numpy as np\n",
    "import matplotlib.pyplot as plt\n",
    "import seaborn as sns\n",
    "import plotly.express as px\n",
    "from IPython.display import display, HTML\n",
    "\n",
    "# Set visualization styles\n",
    "plt.style.use('fivethirtyeight')\n",
    "sns.set_palette(\"colorblind\")\n",
    "\n",
    "# Display settings\n",
    "pd.set_option('display.max_columns', None)\n",
    "pd.set_option('display.max_rows', 30)\n",
    "pd.set_option('display.width', 1000)\n",
    "\n",
    "print(\"COVID-19 Global Data Tracker - Data Analysis\")\n",
    "print(\"===========================================\\n\")\n",
    "\n",
    "# 1. Load the dataset\n",
    "df = pd.read_csv('country_wise_latest.csv')\n",
    "\n",
    "# 2. Explore the dataset\n",
    "print(\"Dataset Overview:\")\n",
    "print(f\"Total records: {df.shape[0]}\")\n",
    "print(f\"Total features: {df.shape[1]}\")\n",
    "print(\"\\nFirst 5 rows of the dataset:\")\n",
    "display(df.head())\n"
   ]
  }
 ],
 "metadata": {},
 "nbformat": 4,
 "nbformat_minor": 5
}
